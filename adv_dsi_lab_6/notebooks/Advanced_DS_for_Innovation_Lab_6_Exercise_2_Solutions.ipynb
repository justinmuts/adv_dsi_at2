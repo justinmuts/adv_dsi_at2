{
  "nbformat": 4,
  "nbformat_minor": 0,
  "metadata": {
    "colab": {
      "name": "Advanced DS for Innovation - Lab 6 - Exercise 2 - Solutions",
      "provenance": [],
      "collapsed_sections": []
    },
    "kernelspec": {
      "name": "python3",
      "display_name": "Python 3"
    }
  },
  "cells": [
    {
      "cell_type": "markdown",
      "metadata": {
        "id": "uQ6wc2HE0pke"
      },
      "source": [
        "# **Lab: Unstructured Data**\n",
        "\n"
      ]
    },
    {
      "cell_type": "markdown",
      "metadata": {
        "id": "tQgxLRrvjiJb"
      },
      "source": [
        "## Exercise 2: Bee versus Ant\n",
        "\n",
        "In this exercise, we will apply transfer learning on a pre-trained Resnet model with Pytorch for classifying images of bees and ants. We will be working on the Hymenoptera dataset:\n",
        "https://download.pytorch.org/tutorial/hymenoptera_data.zip\n",
        "\n",
        "The steps are:\n",
        "1.   Setup Repository\n",
        "2.   Load Dataset\n",
        "3.   Prepare Data\n",
        "4.   Define Architecture\n",
        "5.   Train Model\n",
        "6.   Push Changes\n"
      ]
    },
    {
      "cell_type": "markdown",
      "metadata": {
        "id": "smh_LhVjIg9s"
      },
      "source": [
        "### 1. Setup Repository"
      ]
    },
    {
      "cell_type": "markdown",
      "metadata": {
        "id": "_fTLEcebNjhz"
      },
      "source": [
        "**[1.1]** Go inside the created folder `adv_dsi_lab_6`"
      ]
    },
    {
      "cell_type": "code",
      "metadata": {
        "id": "Pe-loIVTNjqW"
      },
      "source": [
        "# Placeholder for student's code (1 command line)\n",
        "# Task: Go inside the created folder adv_dsi_lab_6"
      ],
      "execution_count": null,
      "outputs": []
    },
    {
      "cell_type": "code",
      "metadata": {
        "id": "QHPUrI1Cu-g-"
      },
      "source": [
        "# Solution\n",
        "cd adv_dsi_lab_6"
      ],
      "execution_count": null,
      "outputs": []
    },
    {
      "cell_type": "markdown",
      "metadata": {
        "id": "EHQBJUHEQqcs"
      },
      "source": [
        "**[1.2]** Create a new git branch called pytorch_bee_ant"
      ]
    },
    {
      "cell_type": "code",
      "metadata": {
        "id": "bM-1oZYxQqmO"
      },
      "source": [
        "# Placeholder for student's code (1 command line)\n",
        "# Task: Create a new git branch called pytorch_bee_ant"
      ],
      "execution_count": null,
      "outputs": []
    },
    {
      "cell_type": "code",
      "metadata": {
        "id": "TbseMHf7Qqo2"
      },
      "source": [
        "# Solution\n",
        "git checkout -b pytorch_bee_ant"
      ],
      "execution_count": null,
      "outputs": []
    },
    {
      "cell_type": "markdown",
      "metadata": {
        "id": "urrLvZmTUX23"
      },
      "source": [
        "**[1.3]** Run the built image"
      ]
    },
    {
      "cell_type": "code",
      "metadata": {
        "id": "nDAwl-fSVgIe"
      },
      "source": [
        "docker run  -dit --rm --name adv_dsi_lab_6 -p 8888:8888 -e JUPYTER_ENABLE_LAB=yes -v ~/Projects/adv_dsi/adv_dsi_lab_6:/home/jovyan/work -v ~/Projects/adv_dsi/src:/home/jovyan/work/src pytorch-notebook:latest "
      ],
      "execution_count": null,
      "outputs": []
    },
    {
      "cell_type": "markdown",
      "metadata": {
        "id": "4fO9RJMhwGpM"
      },
      "source": [
        "**[1.4]** Display last 50 lines of logs"
      ]
    },
    {
      "cell_type": "code",
      "metadata": {
        "id": "RwizA-K3wGyb"
      },
      "source": [
        "docker logs --tail 50 adv_dsi_lab_6"
      ],
      "execution_count": null,
      "outputs": []
    },
    {
      "cell_type": "markdown",
      "metadata": {
        "id": "QxkJaPioCmEO"
      },
      "source": [
        "Copy the url displayed and paste it to a browser in order to launch Jupyter Lab"
      ]
    },
    {
      "cell_type": "markdown",
      "metadata": {
        "id": "yTjwF_joDWnE"
      },
      "source": [
        "**[1.6]** Navigate the folder `notebooks` and create a new jupyter notebook called `2_pytorch_ant_bee.ipynb`"
      ]
    },
    {
      "cell_type": "markdown",
      "metadata": {
        "id": "_NCwQQFkU3v5"
      },
      "source": [
        "### 2.   Load Dataset"
      ]
    },
    {
      "cell_type": "markdown",
      "metadata": {
        "id": "nbRDgod3_3Yv"
      },
      "source": [
        "**[2.1]** Import `download_and_extract_archive` from `torchvision.datasets.utils`"
      ]
    },
    {
      "cell_type": "code",
      "metadata": {
        "id": "MLb163oq_3iR"
      },
      "source": [
        "# Placeholder for student's code (1 line of Python code)\n",
        "# Task: Import download_and_extract_archive from torchvision.datasets.utils"
      ],
      "execution_count": null,
      "outputs": []
    },
    {
      "cell_type": "code",
      "metadata": {
        "id": "gcaDN6V3_3q9"
      },
      "source": [
        "#Solution\n",
        "from torchvision.datasets.utils import download_and_extract_archive"
      ],
      "execution_count": null,
      "outputs": []
    },
    {
      "cell_type": "markdown",
      "metadata": {
        "id": "R-Zy6Oq8pkuB"
      },
      "source": [
        "**[2.2]** Create 2 variables called `url` and `path` that will contain respectively the link to the dataset and the path to `data/raw` folder\n"
      ]
    },
    {
      "cell_type": "code",
      "metadata": {
        "id": "q45yJsSqUJ9t"
      },
      "source": [
        "# Placeholder for student's code (2 lines of Python code)\n",
        "# Task: Create 2 variables called url and path that will contain respectively the link to the dataset and the path to data/raw folder"
      ],
      "execution_count": null,
      "outputs": []
    },
    {
      "cell_type": "code",
      "metadata": {
        "id": "Q1iETWjDftMg"
      },
      "source": [
        "#Solution\n",
        "url = 'https://download.pytorch.org/tutorial/hymenoptera_data.zip'\n",
        "path = '~/work/data/raw/'"
      ],
      "execution_count": null,
      "outputs": []
    },
    {
      "cell_type": "markdown",
      "metadata": {
        "id": "CLyMcoNCsx2k"
      },
      "source": [
        "**[2.3]** Dowload and extract the dataset with `download_and_extract_archive`"
      ]
    },
    {
      "cell_type": "code",
      "metadata": {
        "id": "CJKSOaRPsbuD"
      },
      "source": [
        "# Placeholder for student's code (1 line of Python code)\n",
        "# Task: Dowload and extract the dataset with download_and_extract_archive"
      ],
      "execution_count": null,
      "outputs": []
    },
    {
      "cell_type": "code",
      "metadata": {
        "id": "xvnbhiPhs0ZP",
        "colab": {
          "base_uri": "https://localhost:8080/",
          "height": 204
        },
        "outputId": "e53ecd49-2f83-4391-8d44-6a02fdcc13df"
      },
      "source": [
        "# Solution\n",
        "download_and_extract_archive(url, path)"
      ],
      "execution_count": null,
      "outputs": [
        {
          "output_type": "execute_result",
          "data": {
            "text/html": [
              "<div>\n",
              "<style scoped>\n",
              "    .dataframe tbody tr th:only-of-type {\n",
              "        vertical-align: middle;\n",
              "    }\n",
              "\n",
              "    .dataframe tbody tr th {\n",
              "        vertical-align: top;\n",
              "    }\n",
              "\n",
              "    .dataframe thead th {\n",
              "        text-align: right;\n",
              "    }\n",
              "</style>\n",
              "<table border=\"1\" class=\"dataframe\">\n",
              "  <thead>\n",
              "    <tr style=\"text-align: right;\">\n",
              "      <th></th>\n",
              "      <th>age</th>\n",
              "      <th>sex</th>\n",
              "      <th>bmi</th>\n",
              "      <th>children</th>\n",
              "      <th>smoker</th>\n",
              "      <th>region</th>\n",
              "      <th>charges</th>\n",
              "    </tr>\n",
              "  </thead>\n",
              "  <tbody>\n",
              "    <tr>\n",
              "      <th>0</th>\n",
              "      <td>19</td>\n",
              "      <td>female</td>\n",
              "      <td>27.900</td>\n",
              "      <td>0</td>\n",
              "      <td>yes</td>\n",
              "      <td>southwest</td>\n",
              "      <td>16884.92400</td>\n",
              "    </tr>\n",
              "    <tr>\n",
              "      <th>1</th>\n",
              "      <td>18</td>\n",
              "      <td>male</td>\n",
              "      <td>33.770</td>\n",
              "      <td>1</td>\n",
              "      <td>no</td>\n",
              "      <td>southeast</td>\n",
              "      <td>1725.55230</td>\n",
              "    </tr>\n",
              "    <tr>\n",
              "      <th>2</th>\n",
              "      <td>28</td>\n",
              "      <td>male</td>\n",
              "      <td>33.000</td>\n",
              "      <td>3</td>\n",
              "      <td>no</td>\n",
              "      <td>southeast</td>\n",
              "      <td>4449.46200</td>\n",
              "    </tr>\n",
              "    <tr>\n",
              "      <th>3</th>\n",
              "      <td>33</td>\n",
              "      <td>male</td>\n",
              "      <td>22.705</td>\n",
              "      <td>0</td>\n",
              "      <td>no</td>\n",
              "      <td>northwest</td>\n",
              "      <td>21984.47061</td>\n",
              "    </tr>\n",
              "    <tr>\n",
              "      <th>4</th>\n",
              "      <td>32</td>\n",
              "      <td>male</td>\n",
              "      <td>28.880</td>\n",
              "      <td>0</td>\n",
              "      <td>no</td>\n",
              "      <td>northwest</td>\n",
              "      <td>3866.85520</td>\n",
              "    </tr>\n",
              "  </tbody>\n",
              "</table>\n",
              "</div>"
            ],
            "text/plain": [
              "   age     sex     bmi  children smoker     region      charges\n",
              "0   19  female  27.900         0    yes  southwest  16884.92400\n",
              "1   18    male  33.770         1     no  southeast   1725.55230\n",
              "2   28    male  33.000         3     no  southeast   4449.46200\n",
              "3   33    male  22.705         0     no  northwest  21984.47061\n",
              "4   32    male  28.880         0     no  northwest   3866.85520"
            ]
          },
          "metadata": {
            "tags": []
          },
          "execution_count": 4
        }
      ]
    },
    {
      "cell_type": "markdown",
      "metadata": {
        "id": "gQgeYjQDs12m"
      },
      "source": [
        "**[2.4]** Import torchvision"
      ]
    },
    {
      "cell_type": "code",
      "metadata": {
        "id": "dOA7T87hs19l"
      },
      "source": [
        "# Placeholder for student's code (1 line of Python code)\n",
        "# Task: Import torchvision"
      ],
      "execution_count": null,
      "outputs": []
    },
    {
      "cell_type": "code",
      "metadata": {
        "id": "Dg_89DlAs1_w",
        "colab": {
          "base_uri": "https://localhost:8080/"
        },
        "outputId": "7b5cdeac-b62b-4a49-dd1f-db9dbb336fd0"
      },
      "source": [
        "# Solution\n",
        "import torchvision"
      ],
      "execution_count": null,
      "outputs": [
        {
          "output_type": "execute_result",
          "data": {
            "text/plain": [
              "(1338, 7)"
            ]
          },
          "metadata": {
            "tags": []
          },
          "execution_count": 5
        }
      ]
    },
    {
      "cell_type": "markdown",
      "metadata": {
        "id": "l_kUigJCUtux"
      },
      "source": [
        "**[2.5]** Define a transformation pipeline that will convert crop the images to get a size of 224*224, transform them into tensors and normalise them\n"
      ]
    },
    {
      "cell_type": "code",
      "metadata": {
        "id": "14YqHmhqUt7l"
      },
      "source": [
        "transform = torchvision.transforms.Compose([\n",
        "        torchvision.transforms.CenterCrop(size=224),\n",
        "        torchvision.transforms.ToTensor(),\n",
        "        torchvision.transforms.Normalize([0.485, 0.456, 0.406], [0.229, 0.224, 0.225])\n",
        "    ])"
      ],
      "execution_count": null,
      "outputs": []
    },
    {
      "cell_type": "markdown",
      "metadata": {
        "id": "ToZDknNjUwLo"
      },
      "source": [
        "**[2.6]** Import `ImageFolder` from `torchvision.datasets`"
      ]
    },
    {
      "cell_type": "code",
      "metadata": {
        "id": "a89weZuKUwTi"
      },
      "source": [
        "# Placeholder for student's code (1 line of Python code)\n",
        "# Task: Import ImageFolder from torchvision.datasets"
      ],
      "execution_count": null,
      "outputs": []
    },
    {
      "cell_type": "code",
      "metadata": {
        "id": "gllxW-leUwWU"
      },
      "source": [
        "# Solution\n",
        "from torchvision.datasets import ImageFolder"
      ],
      "execution_count": null,
      "outputs": []
    },
    {
      "cell_type": "markdown",
      "metadata": {
        "id": "UDy4DF6GVCdF"
      },
      "source": [
        "**[2.7]** Instantiate 2 separate `ImageFolder()` called `train_data` and `test_data` with the path to their respective folders and the transformation pipeline"
      ]
    },
    {
      "cell_type": "code",
      "metadata": {
        "id": "h254-wYDVCkP"
      },
      "source": [
        "# Placeholder for student's code (2 lines of Python code)\n",
        "# Task: Instantiate 2 separate ImageFolder() called train_data and test_data with the path to their respective folders and the transformation pipeline"
      ],
      "execution_count": null,
      "outputs": []
    },
    {
      "cell_type": "code",
      "metadata": {
        "id": "IPMw3iuNVCmo"
      },
      "source": [
        "# Solution\n",
        "train_data = ImageFolder('../data/raw/hymenoptera_data/train', transform=transform) \n",
        "test_data = ImageFolder('../data/raw/hymenoptera_data/val', transform=transform) "
      ],
      "execution_count": null,
      "outputs": []
    },
    {
      "cell_type": "markdown",
      "metadata": {
        "id": "miQ6SiKlscLx"
      },
      "source": [
        "### 3. Prepare Data\n",
        "\n"
      ]
    },
    {
      "cell_type": "markdown",
      "metadata": {
        "id": "NtuF1V6ctwn-"
      },
      "source": [
        "**[3.1]** Import torch"
      ]
    },
    {
      "cell_type": "code",
      "metadata": {
        "id": "Zqaz1C7DtwuU"
      },
      "source": [
        "# Placeholder for student's code (1 line of Python code)\n",
        "# Task: Import torch"
      ],
      "execution_count": null,
      "outputs": []
    },
    {
      "cell_type": "code",
      "metadata": {
        "id": "HrXR7NCLtwxB"
      },
      "source": [
        "# Solution\n",
        "import torch"
      ],
      "execution_count": null,
      "outputs": []
    },
    {
      "cell_type": "markdown",
      "metadata": {
        "id": "OivZmG19WLF2"
      },
      "source": [
        "**[3.2]** Create a variable called `batch_size` with the value 16"
      ]
    },
    {
      "cell_type": "code",
      "metadata": {
        "id": "S2F2CkjaWLOE"
      },
      "source": [
        "# Placeholder for student's code (1 line of Python code)\n",
        "# Task: Create a variable called batch_size with the value 16"
      ],
      "execution_count": null,
      "outputs": []
    },
    {
      "cell_type": "code",
      "metadata": {
        "id": "-z1sH-7_WLST"
      },
      "source": [
        "# Solution\n",
        "batch_size = 16"
      ],
      "execution_count": null,
      "outputs": []
    },
    {
      "cell_type": "markdown",
      "metadata": {
        "id": "femTzeCBN0Wf"
      },
      "source": [
        "**[3.3]** Import DataLoader from torch.utils.data"
      ]
    },
    {
      "cell_type": "code",
      "metadata": {
        "id": "0Y3VOTNPN0id"
      },
      "source": [
        "# Placeholder for student's code (1 line of Python code)\n",
        "# Task: Import DataLoader from torch.utils.data"
      ],
      "execution_count": null,
      "outputs": []
    },
    {
      "cell_type": "code",
      "metadata": {
        "id": "IgrFk1bhN0qO"
      },
      "source": [
        "# Solution:\n",
        "from torch.utils.data import DataLoader"
      ],
      "execution_count": null,
      "outputs": []
    },
    {
      "cell_type": "markdown",
      "metadata": {
        "id": "m1RrTCBRDybQ"
      },
      "source": [
        "**[3.4]** Instantiate a `torch.utils.data.DataLoader()` on the training data, with the relevant batch size and with shuffle. Save the reults in a variable called `train_loader`"
      ]
    },
    {
      "cell_type": "code",
      "metadata": {
        "id": "wtYjKp_1DyiT"
      },
      "source": [
        "# Placeholder for student's code (1 line of Python code)\n",
        "# Task: Instantiate a torch.utils.data.DataLoader() on the training data, with the relevant batch size and with shuffle. Save the reults in a variable called train_loader"
      ],
      "execution_count": null,
      "outputs": []
    },
    {
      "cell_type": "code",
      "metadata": {
        "id": "aezRs9S3Dyl0"
      },
      "source": [
        "# Solution\n",
        "train_loader = DataLoader(train_data, batch_size=batch_size, shuffle=True)"
      ],
      "execution_count": null,
      "outputs": []
    },
    {
      "cell_type": "markdown",
      "metadata": {
        "id": "5pKaCxasERAt"
      },
      "source": [
        "**[3.5]** Instantiate a `torch.utils.data.DataLoader()` on the testing data, with the relevant batch size and with shuffle. Save the reults in a variable called `test_loader`"
      ]
    },
    {
      "cell_type": "code",
      "metadata": {
        "id": "qbqcA0Lg0Nqa"
      },
      "source": [
        "# Placeholder for student's code (1 line of Python code)\n",
        "# Task: Instantiate a torch.utils.data.DataLoader() on the testing data, with the relevant batch size and with shuffle. Save the reults in a variable called test_loader"
      ],
      "execution_count": null,
      "outputs": []
    },
    {
      "cell_type": "code",
      "metadata": {
        "id": "yDwCmIXvERJO"
      },
      "source": [
        "# Solution\n",
        "test_loader = DataLoader(test_data, batch_size=batch_size, shuffle=True)"
      ],
      "execution_count": null,
      "outputs": []
    },
    {
      "cell_type": "markdown",
      "metadata": {
        "id": "-l0Hkri1FVrv"
      },
      "source": [
        "**[3.6]** Create a generator on the test data loader and extract the first observation"
      ]
    },
    {
      "cell_type": "code",
      "metadata": {
        "id": "vVRRa_nJX9fk"
      },
      "source": [
        "# Placeholder for student's code (2 lines of Python code)\n",
        "# Task: Create a generator on the test data loader and extract the first observation"
      ],
      "execution_count": null,
      "outputs": []
    },
    {
      "cell_type": "code",
      "metadata": {
        "id": "x_yCjMqgFV1u"
      },
      "source": [
        "# Solution\n",
        "examples = enumerate(test_loader)\n",
        "batch_idx, (example_data, example_targets) = next(examples)"
      ],
      "execution_count": null,
      "outputs": []
    },
    {
      "cell_type": "markdown",
      "metadata": {
        "id": "w2v1vLMWTofp"
      },
      "source": [
        "**[3.7]** Print the dimensions of the first image"
      ]
    },
    {
      "cell_type": "code",
      "metadata": {
        "id": "BcTo7drqTom4"
      },
      "source": [
        "# Placeholder for student's code (1 line of Python code)\n",
        "# Task: Print the dimensions of the first image"
      ],
      "execution_count": null,
      "outputs": []
    },
    {
      "cell_type": "code",
      "metadata": {
        "id": "dfUpbRYSTopS"
      },
      "source": [
        "# Solution\n",
        "example_data.shape"
      ],
      "execution_count": null,
      "outputs": []
    },
    {
      "cell_type": "markdown",
      "metadata": {
        "id": "lt8YYcHuTsDs"
      },
      "source": [
        "**[3.8]** Import matplotlib.pyplot as plt"
      ]
    },
    {
      "cell_type": "code",
      "metadata": {
        "id": "0Fs5Lt8jTsLK"
      },
      "source": [
        "# Placeholder for student's code (1 line of Python code)\n",
        "# Task: Import matplotlib.pyplot as plt"
      ],
      "execution_count": null,
      "outputs": []
    },
    {
      "cell_type": "code",
      "metadata": {
        "id": "z6isEtGBTsNz"
      },
      "source": [
        "# Solution\n",
        "import matplotlib.pyplot as plt"
      ],
      "execution_count": null,
      "outputs": []
    },
    {
      "cell_type": "markdown",
      "metadata": {
        "id": "guu_QM_KN8Aw"
      },
      "source": [
        "**[3.9]** Print the first image with its corresponding target"
      ]
    },
    {
      "cell_type": "code",
      "metadata": {
        "id": "Gv7PFYRONv0o"
      },
      "source": [
        "plt.imshow(example_data[0][0], cmap='gray', interpolation='none')\n",
        "plt.title(\"Ground Truth: {}\".format(example_targets[0]))"
      ],
      "execution_count": null,
      "outputs": []
    },
    {
      "cell_type": "markdown",
      "metadata": {
        "id": "N8MNBrC4Zgz6"
      },
      "source": [
        "### 4. Define Architecture"
      ]
    },
    {
      "cell_type": "markdown",
      "metadata": {
        "id": "3Lt1lE8lJ9zS"
      },
      "source": [
        "**[4.1]** Import models from torchvision"
      ]
    },
    {
      "cell_type": "code",
      "metadata": {
        "id": "Kc6UHpDqJ96o"
      },
      "source": [
        "# Placeholder for student's code (1 line of Python code)\n",
        "# Task: Import models from torchvision"
      ],
      "execution_count": null,
      "outputs": []
    },
    {
      "cell_type": "code",
      "metadata": {
        "id": "2xufkK8VJ99s"
      },
      "source": [
        "# Solution\n",
        "from torchvision import models"
      ],
      "execution_count": null,
      "outputs": []
    },
    {
      "cell_type": "markdown",
      "metadata": {
        "id": "NFCSRIyMZuAR"
      },
      "source": [
        "**[4.2]** Instantiate a pre-trained `models.resnet50()` and save it into a variable called `model` "
      ]
    },
    {
      "cell_type": "code",
      "metadata": {
        "id": "00BWv65bZg7C"
      },
      "source": [
        "# Placeholder for student's code (1 line of Python code)\n",
        "# Task: Instantiate a pre-trained models.resnet50() and save it into a variable called model"
      ],
      "execution_count": null,
      "outputs": []
    },
    {
      "cell_type": "code",
      "metadata": {
        "id": "Eejq-COGZhCP"
      },
      "source": [
        "# Solution:\n",
        "model = models.resnet50(pretrained=True)"
      ],
      "execution_count": null,
      "outputs": []
    },
    {
      "cell_type": "markdown",
      "metadata": {
        "id": "sJNZfvA4dJ9X"
      },
      "source": [
        "**[4.3]** Print the architecture of this model"
      ]
    },
    {
      "cell_type": "code",
      "metadata": {
        "id": "Rdui0TivdKGE"
      },
      "source": [
        "# Placeholder for student's code (1 line of Python code)\n",
        "# Task: Print the architecture of this model"
      ],
      "execution_count": null,
      "outputs": []
    },
    {
      "cell_type": "code",
      "metadata": {
        "id": "fev4FWAYdU1G"
      },
      "source": [
        "# Solution:\n",
        "model"
      ],
      "execution_count": null,
      "outputs": []
    },
    {
      "cell_type": "markdown",
      "metadata": {
        "id": "kRLIZeci7cfW"
      },
      "source": [
        "**[4.4]** Create a for lopp that will iterate through the model's parameters and set them as non-trainable"
      ]
    },
    {
      "cell_type": "code",
      "metadata": {
        "id": "QehpZw7n7coW"
      },
      "source": [
        "# Placeholder for student's code (2 lines of Python code)\n",
        "# Task: Create a for lopp that will iterate through the model's parameters and set them as non-trainable"
      ],
      "execution_count": null,
      "outputs": []
    },
    {
      "cell_type": "code",
      "metadata": {
        "id": "Z1Jt8WX57cqn"
      },
      "source": [
        "# Solution:\n",
        "for param in model.parameters():\n",
        "    param.requires_grad = False"
      ],
      "execution_count": null,
      "outputs": []
    },
    {
      "cell_type": "markdown",
      "metadata": {
        "id": "EyV4P9b_LML4"
      },
      "source": [
        "**[4.5]** Create a variable called `n_inputs` that will contains the number of neurons of the `fc` layer"
      ]
    },
    {
      "cell_type": "code",
      "metadata": {
        "id": "J65SAKbDLMRr"
      },
      "source": [
        "# Placeholder for student's code (1 line of Python code)\n",
        "# Task: Create a variable called n_inputs that will contains the number of neurons of the fc layer"
      ],
      "execution_count": null,
      "outputs": []
    },
    {
      "cell_type": "code",
      "metadata": {
        "id": "O6l_Y_dHLMUR"
      },
      "source": [
        "# Solution:\n",
        "n_inputs = model.fc.in_features"
      ],
      "execution_count": null,
      "outputs": []
    },
    {
      "cell_type": "markdown",
      "metadata": {
        "id": "PSEXx3chZow6"
      },
      "source": [
        "**[4.6]** Import torch.nn as nn"
      ]
    },
    {
      "cell_type": "code",
      "metadata": {
        "id": "tBjzOC2IZo48"
      },
      "source": [
        "# Placeholder for student's code (1 line of Python code)\n",
        "# Task: Import torch.nn as nn"
      ],
      "execution_count": null,
      "outputs": []
    },
    {
      "cell_type": "code",
      "metadata": {
        "id": "pK5jUiV3Zo7l"
      },
      "source": [
        "# Solution:\n",
        "import torch.nn as nn"
      ],
      "execution_count": null,
      "outputs": []
    },
    {
      "cell_type": "markdown",
      "metadata": {
        "id": "seG-TOa-Zv-i"
      },
      "source": [
        "**[4.7]** Replace the `fc` layer by:\n",
        "- fully-connected layer of 256 neurons with relu and dropout of 0.4\n",
        "- fully-connected layer of 1 neurons with sigmoid"
      ]
    },
    {
      "cell_type": "code",
      "metadata": {
        "id": "cB3ydX4jZwEO"
      },
      "source": [
        "# Placeholder for student's code (multiple lines of Python code)\n",
        "# Task: Replace the `fc` layer"
      ],
      "execution_count": null,
      "outputs": []
    },
    {
      "cell_type": "code",
      "metadata": {
        "id": "t9PoOX-fZwGh"
      },
      "source": [
        "# Solution:\n",
        "model.fc = nn.Sequential(\n",
        "    nn.Linear(n_inputs, 256),\n",
        "    nn.ReLU(),\n",
        "    nn.Dropout(0.4),\n",
        "    nn.Linear(256, 1),\n",
        "    nn.Sigmoid()\n",
        ")"
      ],
      "execution_count": null,
      "outputs": []
    },
    {
      "cell_type": "markdown",
      "metadata": {
        "id": "XXoSeBB9ajwc"
      },
      "source": [
        "**[4.8]** Import the `get_device` function from src.models.pytorch "
      ]
    },
    {
      "cell_type": "code",
      "metadata": {
        "id": "bRLnxskJaj27"
      },
      "source": [
        "# Placeholder for student's code (1 line of Python code)\n",
        "# Task: Import the get_device function from src.models.pytorch"
      ],
      "execution_count": null,
      "outputs": []
    },
    {
      "cell_type": "code",
      "metadata": {
        "id": "kjlgsO0Maj5Y"
      },
      "source": [
        "# Solution:\n",
        "from src.models.pytorch import get_device"
      ],
      "execution_count": null,
      "outputs": []
    },
    {
      "cell_type": "markdown",
      "metadata": {
        "id": "Qr5ZdyFNakNi"
      },
      "source": [
        "**[4.9]** Get the device available and set to the model to use it"
      ]
    },
    {
      "cell_type": "code",
      "metadata": {
        "id": "Jq8OfJ5MakUE"
      },
      "source": [
        "# Placeholder for student's code (2 lines of Python code)\n",
        "# Task: Get the device available and set to the model to use it"
      ],
      "execution_count": null,
      "outputs": []
    },
    {
      "cell_type": "code",
      "metadata": {
        "id": "bfj9aeJwakWe"
      },
      "source": [
        "# Solution:\n",
        "device = get_device()\n",
        "model.to(device)"
      ],
      "execution_count": null,
      "outputs": []
    },
    {
      "cell_type": "markdown",
      "metadata": {
        "id": "JUEbyrm2ZzhL"
      },
      "source": [
        "### 5. Train the model"
      ]
    },
    {
      "cell_type": "markdown",
      "metadata": {
        "id": "faMubeDzZzuX"
      },
      "source": [
        "**[5.1]** Import train_binary and test_binary from src.models.pytorch"
      ]
    },
    {
      "cell_type": "code",
      "metadata": {
        "id": "KSrYPUCPZz1u"
      },
      "source": [
        "# Placeholder for student's code (multiple lines of Python code)\n",
        "# Task: Import train_binary and test_binary from src.models.pytorch"
      ],
      "execution_count": null,
      "outputs": []
    },
    {
      "cell_type": "code",
      "metadata": {
        "id": "vBSoR7LTZz3-"
      },
      "source": [
        "# Solution:\n",
        "from src.models.pytorch import train_binary, test_binary"
      ],
      "execution_count": null,
      "outputs": []
    },
    {
      "cell_type": "markdown",
      "metadata": {
        "id": "ORcJNo4ygaRa"
      },
      "source": [
        "**[5.2]** Instantiate a `nn.BCELoss()` and save it into a variable called `criterion`"
      ]
    },
    {
      "cell_type": "code",
      "metadata": {
        "id": "QgVyt-4egaXE"
      },
      "source": [
        "# Placeholder for student's code (1 line of Python code)\n",
        "# Task: Instantiate a nn.BCELoss() and save it into a variable called criterion"
      ],
      "execution_count": null,
      "outputs": []
    },
    {
      "cell_type": "code",
      "metadata": {
        "id": "QkXUqKMcgaZN"
      },
      "source": [
        "# Solution:\n",
        "criterion = nn.BCELoss()"
      ],
      "execution_count": null,
      "outputs": []
    },
    {
      "cell_type": "markdown",
      "metadata": {
        "id": "rBxCIn10ZDAF"
      },
      "source": [
        "**[5.3]** Instantiate a torch.optim.Adam() optimizer with the model's parameters and 0.001 as learning rate and save it into a variable called optimizer"
      ]
    },
    {
      "cell_type": "code",
      "metadata": {
        "id": "QLCzlF0xZDJ-"
      },
      "source": [
        "# Placeholder for student's code (1 line of Python code)\n",
        "# Task: Instantiate a torch.optim.Adam() optimizer with the model's parameters and 0.001 as learning rate and save it into a variable called optimizer"
      ],
      "execution_count": null,
      "outputs": []
    },
    {
      "cell_type": "code",
      "metadata": {
        "id": "c6oNYKJEZDM4"
      },
      "source": [
        "# Solution:\n",
        "optimizer = torch.optim.Adam(model.parameters(), lr=0.001)"
      ],
      "execution_count": null,
      "outputs": []
    },
    {
      "cell_type": "markdown",
      "metadata": {
        "id": "CR22BA8dZnKz"
      },
      "source": [
        "**[5.4]** Create 2 variables called `N_EPOCHS` and `BATCH_SIZE` that will respectively take the values 50 and 32"
      ]
    },
    {
      "cell_type": "code",
      "metadata": {
        "id": "a8UHBIMeZnTP"
      },
      "source": [
        "# Placeholder for student's code (2 lines of Python code)\n",
        "# Task: Create 2 variables called N_EPOCHS and BATCH_SIZE that will respectively take the values 50 and 32"
      ],
      "execution_count": null,
      "outputs": []
    },
    {
      "cell_type": "code",
      "metadata": {
        "id": "nmw1xla2ZnYT"
      },
      "source": [
        "# Solution:\n",
        "N_EPOCHS = 5\n",
        "BATCH_SIZE = 32"
      ],
      "execution_count": null,
      "outputs": []
    },
    {
      "cell_type": "markdown",
      "metadata": {
        "id": "ekaUYYjqgfcF"
      },
      "source": [
        "**[5.5]** Create a for loop that will iterate through the specified number of epochs and will train the model with the training set and assess the performance on the validation set and print their scores"
      ]
    },
    {
      "cell_type": "code",
      "metadata": {
        "id": "hSzb5ZsYgfhf"
      },
      "source": [
        "# Placeholder for student's code (multiples lines of Python code)\n",
        "# Task: Create a for loop that will iterate through the specified number of epochs and will train the model with the training set and assess the performance on the validation set and print their scores"
      ],
      "execution_count": null,
      "outputs": []
    },
    {
      "cell_type": "code",
      "metadata": {
        "id": "h8Jmfhk0MQ0i"
      },
      "source": [
        "# Solution:\n",
        "for epoch in range(N_EPOCHS):\n",
        "    train_loss, train_acc = train_binary(train_data, model=model, criterion=criterion, optimizer=optimizer, batch_size=BATCH_SIZE, device=device)\n",
        "    valid_loss, valid_acc = test_binary(test_data, model=model, criterion=criterion, batch_size=BATCH_SIZE, device=device)\n",
        "\n",
        "    print(f'Epoch: {epoch}')\n",
        "    print(f'\\t(train)\\t|\\tLoss: {train_loss:.4f}\\t|\\tAcc: {train_acc * 100:.4f}%')\n",
        "    print(f'\\t(valid)\\t|\\tLoss: {valid_loss:.4f}\\t|\\tAcc: {valid_acc * 100:.4f}%')"
      ],
      "execution_count": null,
      "outputs": []
    },
    {
      "cell_type": "markdown",
      "metadata": {
        "id": "JE8fVHin92-6"
      },
      "source": [
        "**[5.6]** Save the model into the `models` folder"
      ]
    },
    {
      "cell_type": "code",
      "metadata": {
        "id": "qAJZbmb-93Ge"
      },
      "source": [
        "# Placeholder for student's code (1 line of Python code)\n",
        "# Task: Save the model into the models folder"
      ],
      "execution_count": null,
      "outputs": []
    },
    {
      "cell_type": "code",
      "metadata": {
        "id": "oludTfN193I-"
      },
      "source": [
        "# Solution:\n",
        "torch.save(model, \"../models/pytorch_mnist_cnn.pt\")"
      ],
      "execution_count": null,
      "outputs": []
    },
    {
      "cell_type": "markdown",
      "metadata": {
        "id": "1yX0Ocg4hcZM"
      },
      "source": [
        "### 6.   Push changes"
      ]
    },
    {
      "cell_type": "markdown",
      "metadata": {
        "id": "3guOKU9gjrmp"
      },
      "source": [
        "**[6.1]** Add you changes to git staging area"
      ]
    },
    {
      "cell_type": "code",
      "metadata": {
        "id": "lKuRNeqAj0ym"
      },
      "source": [
        "# Placeholder for student's code (1 command line)\n",
        "# Task: Add you changes to git staging area"
      ],
      "execution_count": null,
      "outputs": []
    },
    {
      "cell_type": "code",
      "metadata": {
        "id": "axcj-jS0jruy"
      },
      "source": [
        "# Solution:\n",
        "git add ."
      ],
      "execution_count": null,
      "outputs": []
    },
    {
      "cell_type": "markdown",
      "metadata": {
        "id": "6nUK2dp_j67X"
      },
      "source": [
        "**[6.2]** Create the snapshot of your repository and add a description"
      ]
    },
    {
      "cell_type": "code",
      "metadata": {
        "id": "1-M-aS-Ij7EE"
      },
      "source": [
        "# Placeholder for student's code (1 command line)\n",
        "# Task: Create the snapshot of your repository and add a description"
      ],
      "execution_count": null,
      "outputs": []
    },
    {
      "cell_type": "code",
      "metadata": {
        "id": "zovhzXRxj7Il"
      },
      "source": [
        "# Solution:\n",
        "git commit -m \"pytorch resnet\""
      ],
      "execution_count": null,
      "outputs": []
    },
    {
      "cell_type": "markdown",
      "metadata": {
        "id": "Y9FciIQZj7nX"
      },
      "source": [
        "**[6.3]** Push your snapshot to Github"
      ]
    },
    {
      "cell_type": "code",
      "metadata": {
        "id": "IR7i6D5hj7uO"
      },
      "source": [
        "# Placeholder for student's code (1 command line)\n",
        "# Task: Push your snapshot to Github"
      ],
      "execution_count": null,
      "outputs": []
    },
    {
      "cell_type": "code",
      "metadata": {
        "id": "WaVAgJ4Aj7wi"
      },
      "source": [
        "# Solution:\n",
        "git push"
      ],
      "execution_count": null,
      "outputs": []
    },
    {
      "cell_type": "markdown",
      "metadata": {
        "id": "d7a6bwMniAs1"
      },
      "source": [
        "**[6.4]** Check out to the master branch"
      ]
    },
    {
      "cell_type": "code",
      "metadata": {
        "id": "eM9v_33XiA1I"
      },
      "source": [
        "# Placeholder for student's code (1 command line)\n",
        "# Task: Check out to the master branch"
      ],
      "execution_count": null,
      "outputs": []
    },
    {
      "cell_type": "code",
      "metadata": {
        "id": "d6-AI0x7iA4M"
      },
      "source": [
        "# Solution:\n",
        "git checkout master"
      ],
      "execution_count": null,
      "outputs": []
    },
    {
      "cell_type": "markdown",
      "metadata": {
        "id": "v98Ka9kNiBLw"
      },
      "source": [
        "**[6.5]** Pull the latest updates"
      ]
    },
    {
      "cell_type": "code",
      "metadata": {
        "id": "yNZb1PyEjIOP"
      },
      "source": [
        "# Placeholder for student's code (1 command line)\n",
        "# Task: Pull the latest updates"
      ],
      "execution_count": null,
      "outputs": []
    },
    {
      "cell_type": "code",
      "metadata": {
        "id": "5TJAEYxPjIRS"
      },
      "source": [
        "# Solution:\n",
        "git pull"
      ],
      "execution_count": null,
      "outputs": []
    },
    {
      "cell_type": "markdown",
      "metadata": {
        "id": "pGd3Xdx-jJDk"
      },
      "source": [
        "**[6.6]** Check out to the `pytorch_mnist` branch"
      ]
    },
    {
      "cell_type": "code",
      "metadata": {
        "id": "aEYg8wauiBUb"
      },
      "source": [
        "# Placeholder for student's code (1 command line)\n",
        "# Task: Merge the branch pytorch_bee_ant"
      ],
      "execution_count": null,
      "outputs": []
    },
    {
      "cell_type": "code",
      "metadata": {
        "id": "YNZunyVsiBXd"
      },
      "source": [
        "# Solution:\n",
        "git checkout pytorch_bee_ant"
      ],
      "execution_count": null,
      "outputs": []
    },
    {
      "cell_type": "markdown",
      "metadata": {
        "id": "hjB_56bGdqpS"
      },
      "source": [
        "**[6.7]** Merge the `master` branch and push your changes"
      ]
    },
    {
      "cell_type": "code",
      "metadata": {
        "id": "q25rjnxTdqx5"
      },
      "source": [
        "# Placeholder for student's code (2 command lines)\n",
        "# Task: Merge the master branch and push your changes"
      ],
      "execution_count": null,
      "outputs": []
    },
    {
      "cell_type": "code",
      "metadata": {
        "id": "NTbrlcNzdq03"
      },
      "source": [
        "# Solution:\n",
        "git merge master\n",
        "git push"
      ],
      "execution_count": null,
      "outputs": []
    },
    {
      "cell_type": "markdown",
      "metadata": {
        "id": "8B98cSvWkB-x"
      },
      "source": [
        "**[6.8]** Go to Github and merge the branch after reviewing the code and fixing any conflict"
      ]
    },
    {
      "cell_type": "markdown",
      "metadata": {
        "id": "EkQx18jYiEvQ"
      },
      "source": [
        "**[6.9]** Stop the Docker container"
      ]
    },
    {
      "cell_type": "code",
      "metadata": {
        "id": "OlimZMQsiE7w"
      },
      "source": [
        "# Placeholder for student's code (1 command line)\n",
        "# Task: Stop the Docker container"
      ],
      "execution_count": null,
      "outputs": []
    },
    {
      "cell_type": "code",
      "metadata": {
        "id": "ovwOAbC5iE-T"
      },
      "source": [
        "# Solution:\n",
        "docker stop adv_dsi_lab_6"
      ],
      "execution_count": null,
      "outputs": []
    }
  ]
}