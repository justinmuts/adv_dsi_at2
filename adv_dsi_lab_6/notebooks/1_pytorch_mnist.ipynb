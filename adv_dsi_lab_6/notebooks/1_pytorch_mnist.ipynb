{
 "cells": [
  {
   "cell_type": "markdown",
   "metadata": {
    "id": "uQ6wc2HE0pke"
   },
   "source": [
    "# **Lab: Unstructured Data**\n",
    "\n"
   ]
  },
  {
   "cell_type": "markdown",
   "metadata": {
    "id": "tQgxLRrvjiJb"
   },
   "source": [
    "## Exercise 1: MNIST\n",
    "\n",
    "In this exercise, we will build a Convolution Neural Networks with Pytorch for recognising handwritten digits. We will be working on the MNIST dataset:\n",
    "https://pytorch.org/vision/0.8/datasets.html#mnist\n",
    "\n",
    "The steps are:\n",
    "1.   Setup Repository\n",
    "2.   Load Dataset\n",
    "3.   Prepare Data\n",
    "4.   Define Architecture\n",
    "5.   Train Model\n",
    "6.   Push Changes\n"
   ]
  },
  {
   "cell_type": "markdown",
   "metadata": {
    "id": "smh_LhVjIg9s"
   },
   "source": [
    "### 1. Setup Repository"
   ]
  },
  {
   "cell_type": "markdown",
   "metadata": {
    "id": "_fTLEcebNjhz"
   },
   "source": [
    "**[1.1]** Go to a folder of your choice on your computer (where you store projects)"
   ]
  },
  {
   "cell_type": "code",
   "execution_count": null,
   "metadata": {
    "id": "Pe-loIVTNjqW"
   },
   "outputs": [],
   "source": [
    "# Placeholder for student's code (1 command line)\n",
    "# Task: Go to a folder of your choice on your computer (where you store projects)"
   ]
  },
  {
   "cell_type": "code",
   "execution_count": null,
   "metadata": {
    "id": "QHPUrI1Cu-g-"
   },
   "outputs": [],
   "source": [
    "# Solution\n",
    "cd ~/Projects/"
   ]
  },
  {
   "cell_type": "markdown",
   "metadata": {
    "id": "EHQBJUHEQqcs"
   },
   "source": [
    "**[1.2]** Copy the cookiecutter data science template"
   ]
  },
  {
   "cell_type": "code",
   "execution_count": null,
   "metadata": {
    "id": "bM-1oZYxQqmO"
   },
   "outputs": [],
   "source": [
    "# Placeholder for student's code (1 command line)\n",
    "# Task: Copy the cookiecutter data science template"
   ]
  },
  {
   "cell_type": "code",
   "execution_count": null,
   "metadata": {
    "id": "w3zfghK8Etxy"
   },
   "outputs": [],
   "source": [
    "# Solution\n",
    "cookiecutter -c v1 https://github.com/drivendata/cookiecutter-data-science"
   ]
  },
  {
   "cell_type": "markdown",
   "metadata": {
    "id": "scwewLhrRB_y"
   },
   "source": [
    "Follow the prompt (name the project and repo adv_dsi_lab_6)"
   ]
  },
  {
   "cell_type": "markdown",
   "metadata": {
    "id": "elPnd9JPQwkD"
   },
   "source": [
    "**[1.3]** Go inside the created folder `adv_dsi_lab_6`\n"
   ]
  },
  {
   "cell_type": "code",
   "execution_count": null,
   "metadata": {
    "id": "5VlHqFVqQwuC"
   },
   "outputs": [],
   "source": [
    "# Placeholder for student's code (1 command line)\n",
    "# Task: Go inside the created folder adv_dsi_lab_6"
   ]
  },
  {
   "cell_type": "code",
   "execution_count": null,
   "metadata": {
    "id": "df9ydWQNQww0"
   },
   "outputs": [],
   "source": [
    "# Solution\n",
    "cd adv_dsi_lab_6"
   ]
  },
  {
   "cell_type": "markdown",
   "metadata": {
    "id": "P7KRLjcRn2d4"
   },
   "source": [
    "**[1.4]** Create a file called `Dockerfile` and add the following content:\n",
    "\n",
    "`FROM jupyter/scipy-notebook:0ce64578df46`\n",
    "\n",
    "`RUN pip install torch==1.9.0+cpu torchvision==0.10.0+cpu torchtext==0.10.0 -f https://download.pytorch.org/whl/torch_stable.html`\n",
    "\n",
    "`ENV PYTHONPATH \"${PYTHONPATH}:/home/jovyan/work\"`\n",
    "\n",
    "`RUN echo \"export PYTHONPATH=/home/jovyan/work\" >> ~/.bashrc`\n",
    "\n",
    "`WORKDIR /home/jovyan/work`\n"
   ]
  },
  {
   "cell_type": "code",
   "execution_count": null,
   "metadata": {
    "id": "xBNTTx7UAVCV"
   },
   "outputs": [],
   "source": [
    "# Placeholder for student's code (1 command line)\n",
    "# Task: Create a file called Dockerfile "
   ]
  },
  {
   "cell_type": "code",
   "execution_count": null,
   "metadata": {
    "id": "hsv0dkk1n7Bg"
   },
   "outputs": [],
   "source": [
    "# Solution\n",
    "vi Dockerfile"
   ]
  },
  {
   "cell_type": "markdown",
   "metadata": {
    "id": "5r0cSHUtSqgS"
   },
   "source": [
    "We will create our own Docker image based on the official jupyter/scipy-notebook."
   ]
  },
  {
   "cell_type": "markdown",
   "metadata": {
    "id": "gwC9GRvsTvOJ"
   },
   "source": [
    "**[1.5]** Build the image from this Dockerfile"
   ]
  },
  {
   "cell_type": "code",
   "execution_count": null,
   "metadata": {
    "id": "tBlpvOyYTvYm"
   },
   "outputs": [],
   "source": [
    "docker build -t pytorch-notebook:latest ."
   ]
  },
  {
   "cell_type": "markdown",
   "metadata": {
    "id": "4MvpO7cVYC_P"
   },
   "source": [
    "Syntax: docker build [OPTIONS] PATH \n",
    "\n",
    "Options:\n",
    "\n",
    "`-t: Name and optionally a tag in the 'name:tag' format`\n",
    "\n",
    "Documentation: https://docs.docker.com/engine/reference/commandline/build/"
   ]
  },
  {
   "cell_type": "markdown",
   "metadata": {
    "id": "urrLvZmTUX23"
   },
   "source": [
    "**[1.6]** Run the built image"
   ]
  },
  {
   "cell_type": "code",
   "execution_count": null,
   "metadata": {
    "id": "nDAwl-fSVgIe"
   },
   "outputs": [],
   "source": [
    "docker run  -dit --rm --name adv_dsi_lab_6 -p 8888:8888 -e JUPYTER_ENABLE_LAB=yes -v ~/Projects/adv_dsi/adv_dsi_lab_6:/home/jovyan/work -v ~/Projects/adv_dsi/src:/home/jovyan/work/src pytorch-notebook:latest "
   ]
  },
  {
   "cell_type": "markdown",
   "metadata": {
    "id": "4fO9RJMhwGpM"
   },
   "source": [
    "**[1.7]** Display last 50 lines of logs"
   ]
  },
  {
   "cell_type": "code",
   "execution_count": null,
   "metadata": {
    "id": "RwizA-K3wGyb"
   },
   "outputs": [],
   "source": [
    "docker logs --tail 50 adv_dsi_lab_6"
   ]
  },
  {
   "cell_type": "markdown",
   "metadata": {
    "id": "QxkJaPioCmEO"
   },
   "source": [
    "Copy the url displayed and paste it to a browser in order to launch Jupyter Lab"
   ]
  },
  {
   "cell_type": "markdown",
   "metadata": {
    "id": "4MCoAnnacjS1"
   },
   "source": [
    "**[1.8]** Initialise the repo"
   ]
  },
  {
   "cell_type": "code",
   "execution_count": null,
   "metadata": {
    "id": "P-TPhgLMcjaL"
   },
   "outputs": [],
   "source": [
    "# Placeholder for student's code (1 command line)\n",
    "# Task: Initialise the repo"
   ]
  },
  {
   "cell_type": "code",
   "execution_count": null,
   "metadata": {
    "id": "jTTOWPgjckKe"
   },
   "outputs": [],
   "source": [
    "# Solution\n",
    "git init"
   ]
  },
  {
   "cell_type": "markdown",
   "metadata": {
    "id": "hGw8ot1UdHqg"
   },
   "source": [
    "**[1.9]** Login into Github with your account (https://github.com/) and create a public repo with the name `adv_dsi_lab_6`"
   ]
  },
  {
   "cell_type": "markdown",
   "metadata": {
    "id": "jD4H0EtCdDFr"
   },
   "source": [
    "**[1.10]** In your local repo `adv_dsi_lab_6`, link it with Github (replace the url with your username)"
   ]
  },
  {
   "cell_type": "code",
   "execution_count": null,
   "metadata": {
    "id": "_3fCS9HtdDNw"
   },
   "outputs": [],
   "source": [
    "# Placeholder for student's code (1 command line)\n",
    "# Task: Link repo with Github"
   ]
  },
  {
   "cell_type": "code",
   "execution_count": null,
   "metadata": {
    "id": "lpxHoo3SdDQo"
   },
   "outputs": [],
   "source": [
    "# Solution\n",
    "git remote add origin git@github.com:<username>/adv_dsi_lab_1_6.git"
   ]
  },
  {
   "cell_type": "markdown",
   "metadata": {
    "id": "8nd4YxFyTgt3"
   },
   "source": [
    "**[1.11]** Add you changes to git staging area and commit them"
   ]
  },
  {
   "cell_type": "code",
   "execution_count": null,
   "metadata": {
    "id": "pAHrqi05Tg2r"
   },
   "outputs": [],
   "source": [
    "# Placeholder for student's code (2 command lines)\n",
    "# Task: Add you changes to git staging area and commit them"
   ]
  },
  {
   "cell_type": "code",
   "execution_count": null,
   "metadata": {
    "id": "DS1hq_k3Tg6G"
   },
   "outputs": [],
   "source": [
    "# Solution\n",
    "git add .\n",
    "git commit -m \"init\""
   ]
  },
  {
   "cell_type": "markdown",
   "metadata": {
    "id": "3oRUjdX0dbBu"
   },
   "source": [
    "**[1.12]** Push your master branch to origin"
   ]
  },
  {
   "cell_type": "code",
   "execution_count": null,
   "metadata": {
    "id": "1UzrKvGtdbGy"
   },
   "outputs": [],
   "source": [
    "# Placeholder for student's code (1 command line)\n",
    "# Task: Push your master branch to origin"
   ]
  },
  {
   "cell_type": "code",
   "execution_count": null,
   "metadata": {
    "id": "Wv0pkcLkdbPL"
   },
   "outputs": [],
   "source": [
    "# Solution\n",
    "git push --set-upstream origin master"
   ]
  },
  {
   "cell_type": "markdown",
   "metadata": {
    "id": "oc4SHPzZJNCt"
   },
   "source": [
    "**[1.13]** Preventing push to `master` branch"
   ]
  },
  {
   "cell_type": "code",
   "execution_count": null,
   "metadata": {
    "id": "69Q2oTktJNKu"
   },
   "outputs": [],
   "source": [
    "# Placeholder for student's code (1 command line)\n",
    "# Task: Preventing push to master branch"
   ]
  },
  {
   "cell_type": "code",
   "execution_count": null,
   "metadata": {
    "id": "dolxgzgaJNNT"
   },
   "outputs": [],
   "source": [
    "# Solution\n",
    "git config branch.master.pushRemote no_push"
   ]
  },
  {
   "cell_type": "markdown",
   "metadata": {
    "id": "jxQRDLu2C6D4"
   },
   "source": [
    "**[1.14]** Create a new git branch called `pytorch_mnist`"
   ]
  },
  {
   "cell_type": "code",
   "execution_count": null,
   "metadata": {
    "id": "y-S-ZdcqdoF7"
   },
   "outputs": [],
   "source": [
    "# Placeholder for student's code (1 command line)\n",
    "# Task: Create a new git branch called pytorch_mnist"
   ]
  },
  {
   "cell_type": "code",
   "execution_count": null,
   "metadata": {
    "id": "zBD6K4MXC6rA"
   },
   "outputs": [],
   "source": [
    "# Solution\n",
    "git checkout -b pytorch_mnist"
   ]
  },
  {
   "cell_type": "markdown",
   "metadata": {
    "id": "yTjwF_joDWnE"
   },
   "source": [
    "**[1.15]** Navigate the folder `notebooks` and create a new jupyter notebook called `1_pytorch_mnist.ipynb`"
   ]
  },
  {
   "cell_type": "markdown",
   "metadata": {
    "id": "_NCwQQFkU3v5"
   },
   "source": [
    "### 2.   Load Dataset"
   ]
  },
  {
   "cell_type": "markdown",
   "metadata": {
    "id": "JAIO_Y5Z9_Ay"
   },
   "source": [
    "**[2.1]** Import the torch and torchvision packages"
   ]
  },
  {
   "cell_type": "code",
   "execution_count": null,
   "metadata": {
    "id": "SiroVmhn9_HP"
   },
   "outputs": [],
   "source": [
    "# Placeholder for student's code (3 lines of Python code)\n",
    "# Task: Import the torch and torchvision packages"
   ]
  },
  {
   "cell_type": "code",
   "execution_count": 1,
   "metadata": {
    "id": "2VRE9JYD9_Kk"
   },
   "outputs": [],
   "source": [
    "#Solution\n",
    "import torch\n",
    "import torchvision"
   ]
  },
  {
   "cell_type": "markdown",
   "metadata": {
    "id": "nbRDgod3_3Yv"
   },
   "source": [
    "**[2.2]** Create a variable called `download` containing the value `True`"
   ]
  },
  {
   "cell_type": "code",
   "execution_count": null,
   "metadata": {
    "id": "MLb163oq_3iR"
   },
   "outputs": [],
   "source": [
    "# Placeholder for student's code (1 line of Python code)\n",
    "# Task: Create a variable called download containing the value True"
   ]
  },
  {
   "cell_type": "code",
   "execution_count": 2,
   "metadata": {
    "id": "gcaDN6V3_3q9"
   },
   "outputs": [],
   "source": [
    "#Solution\n",
    "download = True"
   ]
  },
  {
   "cell_type": "markdown",
   "metadata": {
    "id": "R-Zy6Oq8pkuB"
   },
   "source": [
    "**[2.3]** Define a transformation pipeline that will convert the images into tensors and normalise them\n"
   ]
  },
  {
   "cell_type": "code",
   "execution_count": 3,
   "metadata": {
    "id": "Q1iETWjDftMg"
   },
   "outputs": [],
   "source": [
    "transform = torchvision.transforms.Compose([\n",
    "    torchvision.transforms.ToTensor(),\n",
    "    torchvision.transforms.Normalize((0.1307,), (0.3081,))\n",
    "])"
   ]
  },
  {
   "cell_type": "markdown",
   "metadata": {
    "id": "CLyMcoNCsx2k"
   },
   "source": [
    "**[2.4]** Instantiate a torchvision.datasets.MNIST() for the training set, downlows it into `/data/raw/` folder and perform the transformation defined earlier. Save the results in a variable called `train_data`"
   ]
  },
  {
   "cell_type": "code",
   "execution_count": null,
   "metadata": {
    "id": "CJKSOaRPsbuD"
   },
   "outputs": [],
   "source": [
    "# Placeholder for student's code (1 line of Python code)\n",
    "# Task: Instantiate a torchvision.datasets.MNIST() for the training set, downlows it into /data/raw/ folder and perform the transformation defined earlier. Save the results in a variable called train_data"
   ]
  },
  {
   "cell_type": "code",
   "execution_count": 4,
   "metadata": {
    "colab": {
     "base_uri": "https://localhost:8080/",
     "height": 204
    },
    "id": "xvnbhiPhs0ZP",
    "outputId": "e53ecd49-2f83-4391-8d44-6a02fdcc13df"
   },
   "outputs": [
    {
     "name": "stdout",
     "output_type": "stream",
     "text": [
      "Downloading http://yann.lecun.com/exdb/mnist/train-images-idx3-ubyte.gz\n",
      "Downloading http://yann.lecun.com/exdb/mnist/train-images-idx3-ubyte.gz to ../data/raw/MNIST/raw/train-images-idx3-ubyte.gz\n"
     ]
    },
    {
     "data": {
      "application/vnd.jupyter.widget-view+json": {
       "model_id": "d40f0b8e6dfe4b7597ad7988404b7ede",
       "version_major": 2,
       "version_minor": 0
      },
      "text/plain": [
       "HBox(children=(FloatProgress(value=0.0, max=9912422.0), HTML(value='')))"
      ]
     },
     "metadata": {},
     "output_type": "display_data"
    },
    {
     "name": "stdout",
     "output_type": "stream",
     "text": [
      "\n",
      "Extracting ../data/raw/MNIST/raw/train-images-idx3-ubyte.gz to ../data/raw/MNIST/raw\n",
      "\n",
      "Downloading http://yann.lecun.com/exdb/mnist/train-labels-idx1-ubyte.gz\n",
      "Downloading http://yann.lecun.com/exdb/mnist/train-labels-idx1-ubyte.gz to ../data/raw/MNIST/raw/train-labels-idx1-ubyte.gz\n"
     ]
    },
    {
     "data": {
      "application/vnd.jupyter.widget-view+json": {
       "model_id": "6cddeb0f2ae04643a952937c321f8e4d",
       "version_major": 2,
       "version_minor": 0
      },
      "text/plain": [
       "HBox(children=(FloatProgress(value=0.0, max=28881.0), HTML(value='')))"
      ]
     },
     "metadata": {},
     "output_type": "display_data"
    },
    {
     "name": "stdout",
     "output_type": "stream",
     "text": [
      "\n",
      "Extracting ../data/raw/MNIST/raw/train-labels-idx1-ubyte.gz to ../data/raw/MNIST/raw\n",
      "\n",
      "Downloading http://yann.lecun.com/exdb/mnist/t10k-images-idx3-ubyte.gz\n",
      "Downloading http://yann.lecun.com/exdb/mnist/t10k-images-idx3-ubyte.gz to ../data/raw/MNIST/raw/t10k-images-idx3-ubyte.gz\n"
     ]
    },
    {
     "data": {
      "application/vnd.jupyter.widget-view+json": {
       "model_id": "863db48bdc7f4a08b95a802d2a08f2fb",
       "version_major": 2,
       "version_minor": 0
      },
      "text/plain": [
       "HBox(children=(FloatProgress(value=0.0, max=1648877.0), HTML(value='')))"
      ]
     },
     "metadata": {},
     "output_type": "display_data"
    },
    {
     "name": "stdout",
     "output_type": "stream",
     "text": [
      "\n",
      "Extracting ../data/raw/MNIST/raw/t10k-images-idx3-ubyte.gz to ../data/raw/MNIST/raw\n",
      "\n",
      "Downloading http://yann.lecun.com/exdb/mnist/t10k-labels-idx1-ubyte.gz\n",
      "Downloading http://yann.lecun.com/exdb/mnist/t10k-labels-idx1-ubyte.gz to ../data/raw/MNIST/raw/t10k-labels-idx1-ubyte.gz\n"
     ]
    },
    {
     "data": {
      "application/vnd.jupyter.widget-view+json": {
       "model_id": "45345507afc94f61897167af465b719d",
       "version_major": 2,
       "version_minor": 0
      },
      "text/plain": [
       "HBox(children=(FloatProgress(value=0.0, max=4542.0), HTML(value='')))"
      ]
     },
     "metadata": {},
     "output_type": "display_data"
    },
    {
     "name": "stdout",
     "output_type": "stream",
     "text": [
      "\n",
      "Extracting ../data/raw/MNIST/raw/t10k-labels-idx1-ubyte.gz to ../data/raw/MNIST/raw\n",
      "\n"
     ]
    },
    {
     "name": "stderr",
     "output_type": "stream",
     "text": [
      "/opt/conda/lib/python3.7/site-packages/torchvision/datasets/mnist.py:498: UserWarning: The given NumPy array is not writeable, and PyTorch does not support non-writeable tensors. This means you can write to the underlying (supposedly non-writeable) NumPy array using the tensor. You may want to copy the array to protect its data or make it writeable before converting it to a tensor. This type of warning will be suppressed for the rest of this program. (Triggered internally at  /pytorch/torch/csrc/utils/tensor_numpy.cpp:180.)\n",
      "  return torch.from_numpy(parsed.astype(m[2], copy=False)).view(*s)\n"
     ]
    }
   ],
   "source": [
    "# Solution\n",
    "train_data = torchvision.datasets.MNIST('../data/raw/', train=True, download=download, transform=transform)"
   ]
  },
  {
   "cell_type": "markdown",
   "metadata": {
    "id": "gQgeYjQDs12m"
   },
   "source": [
    "**[2.5]** Instantiate a torchvision.datasets.MNIST() for the testing set, downlows it into `/data/raw/` folder and perform the transformation defined earlier. Save the results in a variable called `test_data`"
   ]
  },
  {
   "cell_type": "code",
   "execution_count": null,
   "metadata": {
    "id": "dOA7T87hs19l"
   },
   "outputs": [],
   "source": [
    "# Placeholder for student's code (1 line of Python code)\n",
    "# Task: Instantiate a torchvision.datasets.MNIST() for the testing set, downlows it into /data/raw/ folder and perform the transformation defined earlier. Save the results in a variable called test_data"
   ]
  },
  {
   "cell_type": "code",
   "execution_count": 5,
   "metadata": {
    "colab": {
     "base_uri": "https://localhost:8080/"
    },
    "id": "Dg_89DlAs1_w",
    "outputId": "7b5cdeac-b62b-4a49-dd1f-db9dbb336fd0"
   },
   "outputs": [],
   "source": [
    "# Solution\n",
    "test_data = torchvision.datasets.MNIST('../data/raw/', train=False, download=download, transform=transform)"
   ]
  },
  {
   "cell_type": "code",
   "execution_count": 6,
   "metadata": {},
   "outputs": [
    {
     "data": {
      "text/plain": [
       "Dataset MNIST\n",
       "    Number of datapoints: 10000\n",
       "    Root location: ../data/raw/\n",
       "    Split: Test\n",
       "    StandardTransform\n",
       "Transform: Compose(\n",
       "               ToTensor()\n",
       "               Normalize(mean=(0.1307,), std=(0.3081,))\n",
       "           )"
      ]
     },
     "execution_count": 6,
     "metadata": {},
     "output_type": "execute_result"
    }
   ],
   "source": [
    "test_data"
   ]
  },
  {
   "cell_type": "markdown",
   "metadata": {
    "id": "miQ6SiKlscLx"
   },
   "source": [
    "### 3. Prepare Data"
   ]
  },
  {
   "cell_type": "markdown",
   "metadata": {
    "id": "NtuF1V6ctwn-"
   },
   "source": [
    "**[3.1]** Create 2 variables called `batch_size_train` and `batch_size_test` that will respectively take the values 64 and 10"
   ]
  },
  {
   "cell_type": "code",
   "execution_count": null,
   "metadata": {
    "id": "Zqaz1C7DtwuU"
   },
   "outputs": [],
   "source": [
    "# Placeholder for student's code (2 lines of Python code)\n",
    "# Task: Create 2 variables called batch_size_train and batch_size_test that will respectively take the values 64 and 10"
   ]
  },
  {
   "cell_type": "code",
   "execution_count": 33,
   "metadata": {
    "id": "HrXR7NCLtwxB"
   },
   "outputs": [],
   "source": [
    "# Solution\n",
    "batch_size_train = 64\n",
    "batch_size_test = 10"
   ]
  },
  {
   "cell_type": "markdown",
   "metadata": {
    "id": "femTzeCBN0Wf"
   },
   "source": [
    "**[3.2]** Import DataLoader from torch.utils.data"
   ]
  },
  {
   "cell_type": "code",
   "execution_count": null,
   "metadata": {
    "id": "0Y3VOTNPN0id"
   },
   "outputs": [],
   "source": [
    "# Placeholder for student's code (1 line of Python code)\n",
    "# Task: Import DataLoader from torch.utils.data"
   ]
  },
  {
   "cell_type": "code",
   "execution_count": 34,
   "metadata": {
    "id": "IgrFk1bhN0qO"
   },
   "outputs": [],
   "source": [
    "# Solution:\n",
    "from torch.utils.data import DataLoader"
   ]
  },
  {
   "cell_type": "markdown",
   "metadata": {
    "id": "m1RrTCBRDybQ"
   },
   "source": [
    "**[3.3]** Instantiate a `torch.utils.data.DataLoader()` on the training data, with the relevant batch size and with shuffle. Save the reults in a variable called `train_loader`"
   ]
  },
  {
   "cell_type": "code",
   "execution_count": null,
   "metadata": {
    "id": "wtYjKp_1DyiT"
   },
   "outputs": [],
   "source": [
    "# Placeholder for student's code (1 line of Python code)\n",
    "# Task: Instantiate a torch.utils.data.DataLoader() on the training data, with the relevant batch size and with shuffle. Save the reults in a variable called train_loader"
   ]
  },
  {
   "cell_type": "code",
   "execution_count": 35,
   "metadata": {
    "id": "aezRs9S3Dyl0"
   },
   "outputs": [],
   "source": [
    "# Solution\n",
    "train_loader = DataLoader(train_data, batch_size=batch_size_train, shuffle=True)"
   ]
  },
  {
   "cell_type": "markdown",
   "metadata": {
    "id": "5pKaCxasERAt"
   },
   "source": [
    "**[3.4]** Instantiate a `torch.utils.data.DataLoader()` on the testing data, with the relevant batch size and with shuffle. Save the reults in a variable called `test_loader`"
   ]
  },
  {
   "cell_type": "code",
   "execution_count": null,
   "metadata": {
    "id": "qbqcA0Lg0Nqa"
   },
   "outputs": [],
   "source": [
    "# Placeholder for student's code (1 line of Python code)\n",
    "# Task: Instantiate a torch.utils.data.DataLoader() on the testing data, with the relevant batch size and with shuffle. Save the reults in a variable called test_loader"
   ]
  },
  {
   "cell_type": "code",
   "execution_count": 36,
   "metadata": {
    "id": "yDwCmIXvERJO"
   },
   "outputs": [],
   "source": [
    "# Solution\n",
    "test_loader = DataLoader(test_data, batch_size=batch_size_test, shuffle=True)"
   ]
  },
  {
   "cell_type": "markdown",
   "metadata": {
    "id": "-l0Hkri1FVrv"
   },
   "source": [
    "**[3.5]** Create a generator on the test data loader and extract the first observation"
   ]
  },
  {
   "cell_type": "code",
   "execution_count": 37,
   "metadata": {
    "id": "x_yCjMqgFV1u"
   },
   "outputs": [],
   "source": [
    "examples = enumerate(test_loader)\n",
    "batch_idx, (example_data, example_targets) = next(examples)"
   ]
  },
  {
   "cell_type": "markdown",
   "metadata": {
    "id": "w2v1vLMWTofp"
   },
   "source": [
    "**[3.6]** Print the dimensions of the first image"
   ]
  },
  {
   "cell_type": "code",
   "execution_count": null,
   "metadata": {
    "id": "BcTo7drqTom4"
   },
   "outputs": [],
   "source": [
    "# Placeholder for student's code (1 line of Python code)\n",
    "# Task: Print the dimensions of the first image"
   ]
  },
  {
   "cell_type": "code",
   "execution_count": 38,
   "metadata": {
    "id": "dfUpbRYSTopS"
   },
   "outputs": [
    {
     "data": {
      "text/plain": [
       "torch.Size([10, 1, 28, 28])"
      ]
     },
     "execution_count": 38,
     "metadata": {},
     "output_type": "execute_result"
    }
   ],
   "source": [
    "# Solution\n",
    "example_data.shape"
   ]
  },
  {
   "cell_type": "markdown",
   "metadata": {
    "id": "lt8YYcHuTsDs"
   },
   "source": [
    "**[3.7]** Import matplotlib.pyplot as plt"
   ]
  },
  {
   "cell_type": "code",
   "execution_count": null,
   "metadata": {
    "id": "0Fs5Lt8jTsLK"
   },
   "outputs": [],
   "source": [
    "# Placeholder for student's code (1 line of Python code)\n",
    "# Task: Import matplotlib.pyplot as plt"
   ]
  },
  {
   "cell_type": "code",
   "execution_count": 39,
   "metadata": {
    "id": "z6isEtGBTsNz"
   },
   "outputs": [],
   "source": [
    "# Solution\n",
    "import matplotlib.pyplot as plt"
   ]
  },
  {
   "cell_type": "markdown",
   "metadata": {
    "id": "guu_QM_KN8Aw"
   },
   "source": [
    "**[3.8]** Print the first image with its corresponding target"
   ]
  },
  {
   "cell_type": "code",
   "execution_count": 14,
   "metadata": {
    "id": "Gv7PFYRONv0o"
   },
   "outputs": [
    {
     "data": {
      "text/plain": [
       "Text(0.5, 1.0, 'Ground Truth: 4')"
      ]
     },
     "execution_count": 14,
     "metadata": {},
     "output_type": "execute_result"
    },
    {
     "data": {
      "image/png": "[encoded data removed]",
      "text/plain": [
       "<Figure size 432x288 with 1 Axes>"
      ]
     },
     "metadata": {
      "needs_background": "light"
     },
     "output_type": "display_data"
    }
   ],
   "source": [
    "plt.imshow(example_data[0][0], cmap='gray', interpolation='none')\n",
    "plt.title(\"Ground Truth: {}\".format(example_targets[0]))"
   ]
  },
  {
   "cell_type": "markdown",
   "metadata": {
    "id": "N8MNBrC4Zgz6"
   },
   "source": [
    "### 4. Define Architecture"
   ]
  },
  {
   "cell_type": "markdown",
   "metadata": {
    "id": "3Lt1lE8lJ9zS"
   },
   "source": [
    "**[4.1]** Import torch.nn as n, torch.nn.functional as F and torch.optim as optim"
   ]
  },
  {
   "cell_type": "code",
   "execution_count": null,
   "metadata": {
    "id": "Kc6UHpDqJ96o"
   },
   "outputs": [],
   "source": [
    "# Placeholder for student's code (3 lines of Python code)\n",
    "# Task: Import torch.nn as n, torch.nn.functional as F and torch.optim as optim"
   ]
  },
  {
   "cell_type": "code",
   "execution_count": 40,
   "metadata": {
    "id": "2xufkK8VJ99s"
   },
   "outputs": [],
   "source": [
    "# Solution\n",
    "import torch.nn as nn\n",
    "import torch.nn.functional as F\n",
    "import torch.optim as optim"
   ]
  },
  {
   "cell_type": "markdown",
   "metadata": {
    "id": "NFCSRIyMZuAR"
   },
   "source": [
    "**[4.2]** Create a class called `PytorchCNN` that inherits from `nn.Module` with:\n",
    "- attributes:\n",
    "    - `conv1`: fully-connected layer with 128 filters of size 3\n",
    "    - `conv2`: fully-connected layer with 64 filters of size 3\n",
    "    - `fc1`: fully-connected layer with 128 neurons\n",
    "    - `fc2`: fully-connected layer with 10 neurons\n",
    "    - `softmax`: Softmax activation function\n",
    "- methods:\n",
    "    - `forward()` with `inputs` as input parameter and will sequentially add the 2 convolution layers with relu and max pool of size 2 followed the 2 full-connected layers respectively with relu and softmax"
   ]
  },
  {
   "cell_type": "code",
   "execution_count": 41,
   "metadata": {
    "id": "00BWv65bZg7C"
   },
   "outputs": [],
   "source": [
    "# Placeholder for student's code (1 line of Python code)\n",
    "# Task: Create a numpy array called y_base of dimensions (len(y_train), 1) filled with this value"
   ]
  },
  {
   "cell_type": "code",
   "execution_count": 42,
   "metadata": {
    "id": "Eejq-COGZhCP"
   },
   "outputs": [],
   "source": [
    "# Solution:\n",
    "class PytorchCNN(nn.Module):\n",
    "    def __init__(self):\n",
    "        super(PytorchCNN, self).__init__()\n",
    "        self.conv1 = nn.Conv2d(1, 128, kernel_size=3)\n",
    "        self.conv2 = nn.Conv2d(128, 64, kernel_size=3)\n",
    "        self.fc1 = nn.Linear(1600, 128)\n",
    "        self.fc2 = nn.Linear(128, 10)\n",
    "        self.softmax = nn.Softmax(dim=1)\n",
    "\n",
    "    def forward(self, x):\n",
    "        x = F.max_pool2d(F.relu(self.conv1(x)), 2)\n",
    "        x = F.max_pool2d(F.relu(self.conv2(x)), 2)\n",
    "        x = torch.flatten(x, 1)\n",
    "        x = F.relu(self.fc1(x))\n",
    "        x = self.fc2(x)\n",
    "        return self.softmax(x)"
   ]
  },
  {
   "cell_type": "markdown",
   "metadata": {
    "id": "sJNZfvA4dJ9X"
   },
   "source": [
    "**[4.3]** Instantiate a PytorchCNN and save it into a variable called `model` "
   ]
  },
  {
   "cell_type": "code",
   "execution_count": 17,
   "metadata": {
    "id": "Rdui0TivdKGE"
   },
   "outputs": [],
   "source": [
    "# Placeholder for student's code (1 line of Python code)\n",
    "# Task: Instantiate a PytorchCNN and save it into a variable called model"
   ]
  },
  {
   "cell_type": "code",
   "execution_count": 43,
   "metadata": {
    "id": "fev4FWAYdU1G"
   },
   "outputs": [],
   "source": [
    "# Solution:\n",
    "model = PytorchCNN()"
   ]
  },
  {
   "cell_type": "markdown",
   "metadata": {
    "id": "kRLIZeci7cfW"
   },
   "source": [
    "**[4.4]** Import the `get_device` function from src.models.pytorch "
   ]
  },
  {
   "cell_type": "code",
   "execution_count": 19,
   "metadata": {
    "id": "QehpZw7n7coW"
   },
   "outputs": [],
   "source": [
    "# Placeholder for student's code (1 line of Python code)\n",
    "# Task: Import the get_device function from src.models.pytorch"
   ]
  },
  {
   "cell_type": "code",
   "execution_count": 44,
   "metadata": {
    "id": "Z1Jt8WX57cqn"
   },
   "outputs": [],
   "source": [
    "# Solution:\n",
    "from src.models.pytorch import get_device"
   ]
  },
  {
   "cell_type": "markdown",
   "metadata": {
    "id": "EyV4P9b_LML4"
   },
   "source": [
    "**[4.5]** Get the device available and set to the model to use it"
   ]
  },
  {
   "cell_type": "code",
   "execution_count": 45,
   "metadata": {
    "id": "J65SAKbDLMRr"
   },
   "outputs": [],
   "source": [
    "# Placeholder for student's code (2 lines of Python code)\n",
    "# Task: Get the device available and set to the model to use it"
   ]
  },
  {
   "cell_type": "code",
   "execution_count": 46,
   "metadata": {
    "id": "O6l_Y_dHLMUR"
   },
   "outputs": [
    {
     "data": {
      "text/plain": [
       "PytorchCNN(\n",
       "  (conv1): Conv2d(1, 128, kernel_size=(3, 3), stride=(1, 1))\n",
       "  (conv2): Conv2d(128, 64, kernel_size=(3, 3), stride=(1, 1))\n",
       "  (fc1): Linear(in_features=1600, out_features=128, bias=True)\n",
       "  (fc2): Linear(in_features=128, out_features=10, bias=True)\n",
       "  (softmax): Softmax(dim=1)\n",
       ")"
      ]
     },
     "execution_count": 46,
     "metadata": {},
     "output_type": "execute_result"
    }
   ],
   "source": [
    "# Solution:\n",
    "device = get_device()\n",
    "model.to(device)"
   ]
  },
  {
   "cell_type": "code",
   "execution_count": null,
   "metadata": {},
   "outputs": [],
   "source": [
    "model.to?"
   ]
  },
  {
   "cell_type": "markdown",
   "metadata": {
    "id": "JUEbyrm2ZzhL"
   },
   "source": [
    "### 5. Train the model"
   ]
  },
  {
   "cell_type": "markdown",
   "metadata": {
    "id": "faMubeDzZzuX"
   },
   "source": [
    "**[5.1]** Import train_classification and test_classification from src.models.pytorch"
   ]
  },
  {
   "cell_type": "code",
   "execution_count": 23,
   "metadata": {
    "id": "KSrYPUCPZz1u"
   },
   "outputs": [],
   "source": [
    "# Placeholder for student's code (1 line of Python code)\n",
    "# Task: Import train_classification and test_classification from src.models.pytorch"
   ]
  },
  {
   "cell_type": "code",
   "execution_count": 24,
   "metadata": {
    "id": "vBSoR7LTZz3-"
   },
   "outputs": [],
   "source": [
    "# Solution:\n",
    "from src.models.pytorch import train_classification, test_classification"
   ]
  },
  {
   "cell_type": "markdown",
   "metadata": {
    "id": "ORcJNo4ygaRa"
   },
   "source": [
    "**[5.2]** Instantiate a `nn.CrossEntropyLoss()` and save it into a variable called `criterion`"
   ]
  },
  {
   "cell_type": "code",
   "execution_count": 25,
   "metadata": {
    "id": "QgVyt-4egaXE"
   },
   "outputs": [],
   "source": [
    "# Placeholder for student's code (1 line of Python code)\n",
    "# Task: Instantiate a nn.CrossEntropyLoss() and save it into a variable called criterion"
   ]
  },
  {
   "cell_type": "code",
   "execution_count": 26,
   "metadata": {
    "id": "QkXUqKMcgaZN"
   },
   "outputs": [],
   "source": [
    "# Solution:\n",
    "criterion = nn.CrossEntropyLoss()"
   ]
  },
  {
   "cell_type": "markdown",
   "metadata": {
    "id": "rBxCIn10ZDAF"
   },
   "source": [
    "**[5.3]** Instantiate a torch.optim.Adam() optimizer with the model's parameters and 0.001 as learning rate and save it into a variable called optimizer"
   ]
  },
  {
   "cell_type": "code",
   "execution_count": 27,
   "metadata": {
    "id": "QLCzlF0xZDJ-"
   },
   "outputs": [],
   "source": [
    "# Placeholder for student's code (1 line of Python code)\n",
    "# Task: Instantiate a torch.optim.Adam() optimizer with the model's parameters and 0.001 as learning rate and save it into a variable called optimizer"
   ]
  },
  {
   "cell_type": "code",
   "execution_count": 28,
   "metadata": {
    "id": "c6oNYKJEZDM4"
   },
   "outputs": [],
   "source": [
    "# Solution:\n",
    "optimizer = torch.optim.Adam(model.parameters(), lr=0.001)"
   ]
  },
  {
   "cell_type": "markdown",
   "metadata": {
    "id": "CR22BA8dZnKz"
   },
   "source": [
    "**[5.4]** Create 2 variables called `N_EPOCHS` and `BATCH_SIZE` that will respectively take the values 50 and 32"
   ]
  },
  {
   "cell_type": "code",
   "execution_count": 29,
   "metadata": {
    "id": "a8UHBIMeZnTP"
   },
   "outputs": [],
   "source": [
    "# Placeholder for student's code (2 lines of Python code)\n",
    "# Task: Create 2 variables called N_EPOCHS and BATCH_SIZE that will respectively take the values 50 and 32"
   ]
  },
  {
   "cell_type": "code",
   "execution_count": 30,
   "metadata": {
    "id": "nmw1xla2ZnYT"
   },
   "outputs": [],
   "source": [
    "# Solution:\n",
    "N_EPOCHS = 5\n",
    "BATCH_SIZE = 32"
   ]
  },
  {
   "cell_type": "markdown",
   "metadata": {
    "id": "ekaUYYjqgfcF"
   },
   "source": [
    "**[5.5]** Create a for loop that will iterate through the specified number of epochs and will train the model with the training set and assess the performance on the validation set and print their scores"
   ]
  },
  {
   "cell_type": "code",
   "execution_count": 31,
   "metadata": {
    "id": "hSzb5ZsYgfhf"
   },
   "outputs": [],
   "source": [
    "# Placeholder for student's code (multiples lines of Python code)\n",
    "# Task: Create a for loop that will iterate through the specified number of epochs and will train the model with the training set and assess the performance on the validation set and print their scores"
   ]
  },
  {
   "cell_type": "code",
   "execution_count": null,
   "metadata": {
    "id": "h8Jmfhk0MQ0i"
   },
   "outputs": [],
   "source": [
    "# Solution:\n",
    "for epoch in range(N_EPOCHS):\n",
    "    train_loss, train_acc = train_classification(train_data, model=model, criterion=criterion, optimizer=optimizer, batch_size=BATCH_SIZE, device=device)\n",
    "    valid_loss, valid_acc = test_classification(test_data, model=model, criterion=criterion, batch_size=BATCH_SIZE, device=device)\n",
    "\n",
    "    print(f'Epoch: {epoch}')\n",
    "    print(f'\\t(train)\\t|\\tLoss: {train_loss:.4f}\\t|\\tAcc: {train_acc * 100:.1f}%')\n",
    "    print(f'\\t(valid)\\t|\\tLoss: {valid_loss:.4f}\\t|\\tAcc: {valid_acc * 100:.1f}%')"
   ]
  },
  {
   "cell_type": "markdown",
   "metadata": {
    "id": "JE8fVHin92-6"
   },
   "source": [
    "**[5.6]** Save the model into the `models` folder"
   ]
  },
  {
   "cell_type": "code",
   "execution_count": null,
   "metadata": {
    "id": "qAJZbmb-93Ge"
   },
   "outputs": [],
   "source": [
    "# Placeholder for student's code (1 line of Python code)\n",
    "# Task: Save the model into the models folder"
   ]
  },
  {
   "cell_type": "code",
   "execution_count": null,
   "metadata": {
    "id": "oludTfN193I-"
   },
   "outputs": [],
   "source": [
    "# Solution:\n",
    "torch.save(model, \"../models/pytorch_mnist_cnn.pt\")"
   ]
  },
  {
   "cell_type": "markdown",
   "metadata": {
    "id": "1yX0Ocg4hcZM"
   },
   "source": [
    "### 6.   Push changes"
   ]
  },
  {
   "cell_type": "markdown",
   "metadata": {
    "id": "3guOKU9gjrmp"
   },
   "source": [
    "**[6.1]** Add you changes to git staging area"
   ]
  },
  {
   "cell_type": "code",
   "execution_count": null,
   "metadata": {
    "id": "lKuRNeqAj0ym"
   },
   "outputs": [],
   "source": [
    "# Placeholder for student's code (1 command line)\n",
    "# Task: Add you changes to git staging area"
   ]
  },
  {
   "cell_type": "code",
   "execution_count": null,
   "metadata": {
    "id": "axcj-jS0jruy"
   },
   "outputs": [],
   "source": [
    "# Solution:\n",
    "git add ."
   ]
  },
  {
   "cell_type": "markdown",
   "metadata": {
    "id": "6nUK2dp_j67X"
   },
   "source": [
    "**[6.2]** Create the snapshot of your repository and add a description"
   ]
  },
  {
   "cell_type": "code",
   "execution_count": null,
   "metadata": {
    "id": "1-M-aS-Ij7EE"
   },
   "outputs": [],
   "source": [
    "# Placeholder for student's code (1 command line)\n",
    "# Task: Create the snapshot of your repository and add a description"
   ]
  },
  {
   "cell_type": "code",
   "execution_count": null,
   "metadata": {
    "id": "zovhzXRxj7Il"
   },
   "outputs": [],
   "source": [
    "# Solution:\n",
    "git commit -m \"pytorch cnn mnist\""
   ]
  },
  {
   "cell_type": "markdown",
   "metadata": {
    "id": "Y9FciIQZj7nX"
   },
   "source": [
    "**[6.3]** Push your snapshot to Github"
   ]
  },
  {
   "cell_type": "code",
   "execution_count": null,
   "metadata": {
    "id": "IR7i6D5hj7uO"
   },
   "outputs": [],
   "source": [
    "# Placeholder for student's code (1 command line)\n",
    "# Task: Push your snapshot to Github"
   ]
  },
  {
   "cell_type": "code",
   "execution_count": null,
   "metadata": {
    "id": "WaVAgJ4Aj7wi"
   },
   "outputs": [],
   "source": [
    "# Solution:\n",
    "git push"
   ]
  },
  {
   "cell_type": "markdown",
   "metadata": {
    "id": "d7a6bwMniAs1"
   },
   "source": [
    "**[6.4]** Check out to the master branch"
   ]
  },
  {
   "cell_type": "code",
   "execution_count": null,
   "metadata": {
    "id": "eM9v_33XiA1I"
   },
   "outputs": [],
   "source": [
    "# Placeholder for student's code (1 command line)\n",
    "# Task: Check out to the master branch"
   ]
  },
  {
   "cell_type": "code",
   "execution_count": null,
   "metadata": {
    "id": "d6-AI0x7iA4M"
   },
   "outputs": [],
   "source": [
    "# Solution:\n",
    "git checkout master"
   ]
  },
  {
   "cell_type": "markdown",
   "metadata": {
    "id": "v98Ka9kNiBLw"
   },
   "source": [
    "**[6.5]** Pull the latest updates"
   ]
  },
  {
   "cell_type": "code",
   "execution_count": null,
   "metadata": {
    "id": "yNZb1PyEjIOP"
   },
   "outputs": [],
   "source": [
    "# Placeholder for student's code (1 command line)\n",
    "# Task: Pull the latest updates"
   ]
  },
  {
   "cell_type": "code",
   "execution_count": null,
   "metadata": {
    "id": "5TJAEYxPjIRS"
   },
   "outputs": [],
   "source": [
    "# Solution:\n",
    "git pull"
   ]
  },
  {
   "cell_type": "markdown",
   "metadata": {
    "id": "pGd3Xdx-jJDk"
   },
   "source": [
    "**[6.6]** Check out to the `pytorch_mnist` branch"
   ]
  },
  {
   "cell_type": "code",
   "execution_count": null,
   "metadata": {
    "id": "aEYg8wauiBUb"
   },
   "outputs": [],
   "source": [
    "# Placeholder for student's code (1 command line)\n",
    "# Task: Merge the branch pytorch_mnist"
   ]
  },
  {
   "cell_type": "code",
   "execution_count": null,
   "metadata": {
    "id": "YNZunyVsiBXd"
   },
   "outputs": [],
   "source": [
    "# Solution:\n",
    "p"
   ]
  },
  {
   "cell_type": "markdown",
   "metadata": {
    "id": "hjB_56bGdqpS"
   },
   "source": [
    "**[6.7]** Merge the `master` branch and push your changes"
   ]
  },
  {
   "cell_type": "code",
   "execution_count": null,
   "metadata": {
    "id": "q25rjnxTdqx5"
   },
   "outputs": [],
   "source": [
    "# Placeholder for student's code (2 command lines)\n",
    "# Task: Merge the master branch and push your changes"
   ]
  },
  {
   "cell_type": "code",
   "execution_count": null,
   "metadata": {
    "id": "NTbrlcNzdq03"
   },
   "outputs": [],
   "source": [
    "# Solution:\n",
    "git merge master\n",
    "git push"
   ]
  },
  {
   "cell_type": "markdown",
   "metadata": {
    "id": "8B98cSvWkB-x"
   },
   "source": [
    "**[6.8]** Go to Github and merge the branch after reviewing the code and fixing any conflict"
   ]
  },
  {
   "cell_type": "markdown",
   "metadata": {
    "id": "EkQx18jYiEvQ"
   },
   "source": [
    "**[6.9]** Stop the Docker container"
   ]
  },
  {
   "cell_type": "code",
   "execution_count": null,
   "metadata": {
    "id": "OlimZMQsiE7w"
   },
   "outputs": [],
   "source": [
    "# Placeholder for student's code (1 command line)\n",
    "# Task: Stop the Docker container"
   ]
  },
  {
   "cell_type": "code",
   "execution_count": null,
   "metadata": {
    "id": "ovwOAbC5iE-T"
   },
   "outputs": [],
   "source": [
    "# Solution:\n",
    "docker stop adv_dsi_lab_6"
   ]
  }
 ],
 "metadata": {
  "colab": {
   "collapsed_sections": [],
   "name": "Advanced DS for Innovation - Lab 6 - Exercise 1 - Solutions",
   "provenance": []
  },
  "kernelspec": {
   "display_name": "Python 3",
   "language": "python",
   "name": "python3"
  },
  "language_info": {
   "codemirror_mode": {
    "name": "ipython",
    "version": 3
   },
   "file_extension": ".py",
   "mimetype": "text/x-python",
   "name": "python",
   "nbconvert_exporter": "python",
   "pygments_lexer": "ipython3",
   "version": "3.7.6"
  }
 },
 "nbformat": 4,
 "nbformat_minor": 4
}
